{
 "cells": [
  {
   "cell_type": "markdown",
   "metadata": {},
   "source": [
    "## Question 4: \n",
    "\n",
    "Calculate how many queries you'd have to make to fully explore a deterministic recommendation space?\n",
    "\n",
    "Observe, there are 12 classes of 'interests', Four 0-10 sliders, and each request responds with 6 recommended clubs. \n",
    "\n",
    "## Interests:\n",
    "You can't click an interest twice, and it appears you need to have at least one for the quiz to continue.\n",
    "\n",
    "So we can have up to 11 null entries in a request like this\n"
   ]
  },
  {
   "cell_type": "code",
   "execution_count": 1,
   "metadata": {},
   "outputs": [
    {
     "data": {
      "text/plain": [
       "'X-----------'"
      ]
     },
     "execution_count": 1,
     "metadata": {},
     "output_type": "execute_result"
    }
   ],
   "source": [
    "'X'+'-'*11"
   ]
  },
  {
   "cell_type": "markdown",
   "metadata": {},
   "source": [
    "So, there are 12 possible starting positions for 'interests'\n",
    "And for each of those there are then 11 remaining possible positions for the next 'interest'....\n",
    "\n",
    "And so on \n",
    "\n",
    "So that's $12 * 11 * 10 * 9 * 8 * 7 * 6 * 5 * 4 * 3 * 2 * 1$ or"
   ]
  },
  {
   "cell_type": "code",
   "execution_count": 2,
   "metadata": {},
   "outputs": [
    {
     "data": {
      "text/plain": [
       "479001600"
      ]
     },
     "execution_count": 2,
     "metadata": {},
     "output_type": "execute_result"
    }
   ],
   "source": [
    "from math import factorial #this is python, not code golf\n",
    "factorial(12)"
   ]
  },
  {
   "cell_type": "markdown",
   "metadata": {},
   "source": [
    "assuming each query takes a second, that's"
   ]
  },
  {
   "cell_type": "code",
   "execution_count": 46,
   "metadata": {},
   "outputs": [
    {
     "data": {
      "text/plain": [
       "{'years': 15, 'days': 69, 'hours': 0, 'seconds': 0}"
      ]
     },
     "execution_count": 46,
     "metadata": {},
     "output_type": "execute_result"
    }
   ],
   "source": [
    "from datetime import timedelta\n",
    "def td_fmt(td):\n",
    "    # no leap years, sue me\n",
    "    return {\n",
    "        'years':td.days//365,\n",
    "        'days':td.days%365, \n",
    "        'hours':td.seconds//3600, \n",
    "        'seconds':(td.seconds//60)%60\n",
    "    }\n",
    "\n",
    "\n",
    "interest_total = factorial(12)\n",
    "td_fmt(interest_total * timedelta(seconds=1))"
   ]
  },
  {
   "cell_type": "markdown",
   "metadata": {},
   "source": [
    "But we're not done yet; we still have a 4-dimensional manifold space (i.e. the four sliders) to enumerate!\n",
    "\n",
    "This ones relaively easy as we always submit an answer and there's none of this factorial business; we have a 'hypercube' of side 10, easy."
   ]
  },
  {
   "cell_type": "code",
   "execution_count": 47,
   "metadata": {},
   "outputs": [
    {
     "name": "stdout",
     "output_type": "stream",
     "text": [
      "10000\n"
     ]
    },
    {
     "data": {
      "text/plain": [
       "{'years': 0, 'days': 0, 'hours': 2, 'seconds': 46}"
      ]
     },
     "execution_count": 47,
     "metadata": {},
     "output_type": "execute_result"
    }
   ],
   "source": [
    "slider_total = 10**4 \n",
    "print(slider_total)\n",
    "td_fmt(slider_total * timedelta(seconds=1))"
   ]
  },
  {
   "cell_type": "markdown",
   "metadata": {},
   "source": [
    "And bringing that together with our 'interest' calculation; it's not a case of *adding* these query spaces together; to fully explore the combined manifold defined by the 12 interest permutations and the 4 sliders, we need;"
   ]
  },
  {
   "cell_type": "code",
   "execution_count": 48,
   "metadata": {},
   "outputs": [
    {
     "data": {
      "text/plain": [
       "(4790016000000, {'years': 151890, 'days': 150, 'hours': 0, 'seconds': 0})"
      ]
     },
     "execution_count": 48,
     "metadata": {},
     "output_type": "execute_result"
    }
   ],
   "source": [
    "total = factorial(12) * 10 **4\n",
    "total,td_fmt(total*relativedelta(seconds=1))"
   ]
  },
  {
   "cell_type": "markdown",
   "metadata": {},
   "source": [
    "At this point it should be clear that exhaustive searching is difficult to say the least. \n",
    "\n",
    "But wait! I hear you say 'multiprocessing' and 'cloud scale' and 'distributed computing'!\n",
    "\n",
    "Ok, great! Well, now what?\n"
   ]
  },
  {
   "cell_type": "code",
   "execution_count": 54,
   "metadata": {},
   "outputs": [
    {
     "name": "stdout",
     "output_type": "stream",
     "text": [
      "{'Mind Matters Society', 'Martial Arts & Combat Sports Clubs', 'Musical Theatre Society', 'Volleyball Club', 'Visual Arts Society', 'Dance Club'}\n",
      "{'Belfast Marrow Society', 'Volleyball Club', 'Volunteering', 'Nightline Society', 'Homework Clubs', 'Music Society'}\n",
      "{'Inspiring Leaders', 'Belfast Marrow Society', 'Musical Theatre Society', 'Amnesty', 'Volunteering', \"Writers' Society\"}\n",
      "{'Traditional Crafts Society', 'Trócaire Society', 'GAA Clubs ', 'Unihoc-Floorball Club', 'Cheerleading Club', 'Badminton Club'}\n",
      "{'Photography Society', 'Medical Societies', 'University Air Squadron Society', 'Robotics Society', 'Players Society', 'Rugby Club'}\n"
     ]
    }
   ],
   "source": [
    "import requests\n",
    "from bs4 import BeautifulSoup\n",
    "\n",
    "\n",
    "base = 'https://hookup-qubsu.org/home/GetResults'\n",
    "\n",
    "static_query = {'Categories': ['Democracy'],\n",
    " 'Budget': '5',\n",
    " 'Time': '5',\n",
    " 'Travel': '5',\n",
    " 'Joined': '5'\n",
    "}\n",
    "\n",
    "def get_clubs(q):\n",
    "    response = requests.post(base, data=q)\n",
    "    content = response.content\n",
    "    duration = response.elapsed.total_seconds()\n",
    "    s = BeautifulSoup(content, 'html.parser')\n",
    "    clubs = [h.get_text() for h in s.select('div.answers > h2')]\n",
    "    return clubs, duration\n",
    "\n",
    "for i in range(5):\n",
    "    print(set(get_clubs(static_query)[0]))"
   ]
  },
  {
   "cell_type": "markdown",
   "metadata": {},
   "source": [
    "Exhaustively assessing this 'model' would be ludicrous because it already appears to be 'probabilistic' or at least 'non-deterministic'\n",
    "\n",
    "We have to be more clever than that..."
   ]
  },
  {
   "cell_type": "code",
   "execution_count": null,
   "metadata": {},
   "outputs": [],
   "source": []
  }
 ],
 "metadata": {
  "kernelspec": {
   "display_name": "Python 3",
   "language": "python",
   "name": "python3"
  },
  "language_info": {
   "codemirror_mode": {
    "name": "ipython",
    "version": 3
   },
   "file_extension": ".py",
   "mimetype": "text/x-python",
   "name": "python",
   "nbconvert_exporter": "python",
   "pygments_lexer": "ipython3",
   "version": "3.8.3"
  }
 },
 "nbformat": 4,
 "nbformat_minor": 4
}
