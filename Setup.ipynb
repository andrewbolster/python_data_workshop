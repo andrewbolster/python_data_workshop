{
 "cells": [
  {
   "cell_type": "markdown",
   "metadata": {},
   "source": [
    "# Setup!\n",
    "\n",
    "Make sure I run before you embark too far down the rest of this rabbit hole!\n",
    "\n",
    "## Things that get installed here\n",
    "\n",
    "* `pandas` : Data Maniuplation Library; basically a Data Science Workhorse\n",
    "* `xlrd`/`xlwt`: Packages for interfacing with Excel files \n",
    "* `dask`: Distributed computing library (cloud go _brrrrrrrrr_)\n",
    "* `plotly`/`plotly-geo`/`plotly-kaleido`: interactive graphing\n",
    "* `ipywidgets`: used for interactive displays in JupyterLab\n",
    "* `jupyterlab_hdf`: Editor/Viewer for HDF files\n",
    "* `pyarrow`: Advanced Data Processing (think of it like a cross platform `pandas` 2.0)\n"
   ]
  },
  {
   "cell_type": "code",
   "execution_count": 3,
   "metadata": {},
   "outputs": [
    {
     "name": "stdout",
     "output_type": "stream",
     "text": [
      "Collecting package metadata (current_repodata.json): ...working... done\n",
      "Solving environment: ...working... done\n",
      "\n",
      "## Package Plan ##\n",
      "\n",
      "  environment location: C:\\Users\\me\\anaconda3\n",
      "\n",
      "  added / updated specs:\n",
      "    - ipywidgets=7.5\n",
      "    - pandas\n",
      "    - pyarrow\n",
      "    - xlrd\n",
      "    - xlwt\n",
      "\n",
      "\n",
      "The following NEW packages will be INSTALLED:\n",
      "\n",
      "  abseil-cpp         conda-forge/win-64::abseil-cpp-20200225.2-ha925a31_2\n",
      "  arrow-cpp          conda-forge/win-64::arrow-cpp-1.0.1-py38hecdc4bb_9_cpu\n",
      "  aws-c-common       conda-forge/win-64::aws-c-common-0.4.58-ha925a31_0\n",
      "  aws-c-event-stream conda-forge/win-64::aws-c-event-stream-0.1.6-h0fc2d53_4\n",
      "  aws-checksums      conda-forge/win-64::aws-checksums-0.1.9-hc1c5f57_1\n",
      "  aws-sdk-cpp        conda-forge/win-64::aws-sdk-cpp-1.8.56-hc081641_1\n",
      "  brotli             conda-forge/win-64::brotli-1.0.9-ha925a31_1\n",
      "  c-ares             conda-forge/win-64::c-ares-1.16.1-he774522_3\n",
      "  gflags             conda-forge/win-64::gflags-2.2.2-ha925a31_1004\n",
      "  glog               conda-forge/win-64::glog-0.4.0-h0174b99_3\n",
      "  grpc-cpp           conda-forge/win-64::grpc-cpp-1.32.0-hc9df816_0\n",
      "  libprotobuf        conda-forge/win-64::libprotobuf-3.13.0-h200bbdf_0\n",
      "  libthrift          conda-forge/win-64::libthrift-0.13.0-hdfef310_6\n",
      "  libutf8proc        conda-forge/win-64::libutf8proc-2.5.0-h9e6e254_2\n",
      "  parquet-cpp        conda-forge/noarch::parquet-cpp-1.5.1-2\n",
      "  pyarrow            conda-forge/win-64::pyarrow-1.0.1-py38hc564555_9_cpu\n",
      "  re2                conda-forge/win-64::re2-2020.08.01-ha925a31_1\n",
      "\n",
      "\n",
      "Preparing transaction: ...working... done\n",
      "Verifying transaction: ...working... done\n",
      "Executing transaction: ...working... done\n",
      "\n",
      "Note: you may need to restart the kernel to use updated packages.\n"
     ]
    }
   ],
   "source": [
    "%conda install -y pandas xlrd xlwt \"ipywidgets=7.5\" pyarrow"
   ]
  },
  {
   "cell_type": "code",
   "execution_count": 18,
   "metadata": {},
   "outputs": [
    {
     "name": "stdout",
     "output_type": "stream",
     "text": [
      "Collecting package metadata (current_repodata.json): ...working... done\n",
      "Solving environment: ...working... done\n",
      "\n",
      "## Package Plan ##\n",
      "\n",
      "  environment location: C:\\Users\\me\\anaconda3\n",
      "\n",
      "  added / updated specs:\n",
      "    - plotly-geo\n",
      "    - python-kaleido\n",
      "\n",
      "\n",
      "The following NEW packages will be INSTALLED:\n",
      "\n",
      "  plotly-geo         plotly/noarch::plotly-geo-1.0.0-py_0\n",
      "  python-kaleido     plotly/win-64::python-kaleido-0.0.3-py38_0\n",
      "\n",
      "\n",
      "Preparing transaction: ...working... done\n",
      "Verifying transaction: ...working... done\n",
      "Executing transaction: ...working... done\n",
      "\n",
      "Note: you may need to restart the kernel to use updated packages.\n"
     ]
    }
   ],
   "source": [
    "%conda install -y -c plotly plotly plotly-geo python-kaleido"
   ]
  },
  {
   "cell_type": "code",
   "execution_count": 2,
   "metadata": {},
   "outputs": [
    {
     "name": "stdout",
     "output_type": "stream",
     "text": [
      "Collecting jupyterlab_hdf\n",
      "  Using cached jupyterlab_hdf-0.4.1-py3-none-any.whl (12 kB)\n",
      "Requirement already satisfied: h5py in c:\\users\\me\\anaconda3\\lib\\site-packages (from jupyterlab_hdf) (2.10.0)\n",
      "Requirement already satisfied: notebook in c:\\users\\me\\anaconda3\\lib\\site-packages (from jupyterlab_hdf) (6.0.3)\n",
      "Requirement already satisfied: numpy>=1.7 in c:\\users\\me\\anaconda3\\lib\\site-packages (from h5py->jupyterlab_hdf) (1.18.5)\n",
      "Requirement already satisfied: six in c:\\users\\me\\anaconda3\\lib\\site-packages (from h5py->jupyterlab_hdf) (1.15.0)\n",
      "Requirement already satisfied: ipython-genutils in c:\\users\\me\\anaconda3\\lib\\site-packages (from notebook->jupyterlab_hdf) (0.2.0)\n",
      "Requirement already satisfied: tornado>=5.0 in c:\\users\\me\\anaconda3\\lib\\site-packages (from notebook->jupyterlab_hdf) (6.0.4)\n",
      "Requirement already satisfied: nbformat in c:\\users\\me\\anaconda3\\lib\\site-packages (from notebook->jupyterlab_hdf) (5.0.7)\n",
      "Requirement already satisfied: traitlets>=4.2.1 in c:\\users\\me\\anaconda3\\lib\\site-packages (from notebook->jupyterlab_hdf) (4.3.3)\n",
      "Requirement already satisfied: terminado>=0.8.1 in c:\\users\\me\\anaconda3\\lib\\site-packages (from notebook->jupyterlab_hdf) (0.8.3)\n",
      "Requirement already satisfied: jupyter-client>=5.3.4 in c:\\users\\me\\anaconda3\\lib\\site-packages (from notebook->jupyterlab_hdf) (6.1.6)\n",
      "Requirement already satisfied: Send2Trash in c:\\users\\me\\anaconda3\\lib\\site-packages (from notebook->jupyterlab_hdf) (1.5.0)\n",
      "Requirement already satisfied: nbconvert in c:\\users\\me\\anaconda3\\lib\\site-packages (from notebook->jupyterlab_hdf) (5.6.1)\n",
      "Requirement already satisfied: ipykernel in c:\\users\\me\\anaconda3\\lib\\site-packages (from notebook->jupyterlab_hdf) (5.3.2)\n",
      "Requirement already satisfied: jinja2 in c:\\users\\me\\anaconda3\\lib\\site-packages (from notebook->jupyterlab_hdf) (2.11.2)\n",
      "Requirement already satisfied: pyzmq>=17 in c:\\users\\me\\anaconda3\\lib\\site-packages (from notebook->jupyterlab_hdf) (19.0.1)\n",
      "Requirement already satisfied: prometheus-client in c:\\users\\me\\anaconda3\\lib\\site-packages (from notebook->jupyterlab_hdf) (0.8.0)\n",
      "Requirement already satisfied: jupyter-core>=4.6.1 in c:\\users\\me\\anaconda3\\lib\\site-packages (from notebook->jupyterlab_hdf) (4.6.3)\n",
      "Requirement already satisfied: jsonschema!=2.5.0,>=2.4 in c:\\users\\me\\anaconda3\\lib\\site-packages (from nbformat->notebook->jupyterlab_hdf) (3.2.0)\n",
      "Requirement already satisfied: decorator in c:\\users\\me\\anaconda3\\lib\\site-packages (from traitlets>=4.2.1->notebook->jupyterlab_hdf) (4.4.2)\n",
      "Requirement already satisfied: python-dateutil>=2.1 in c:\\users\\me\\anaconda3\\lib\\site-packages (from jupyter-client>=5.3.4->notebook->jupyterlab_hdf) (2.8.1)\n",
      "Requirement already satisfied: entrypoints>=0.2.2 in c:\\users\\me\\anaconda3\\lib\\site-packages (from nbconvert->notebook->jupyterlab_hdf) (0.3)\n",
      "Requirement already satisfied: bleach in c:\\users\\me\\anaconda3\\lib\\site-packages (from nbconvert->notebook->jupyterlab_hdf) (3.1.5)\n",
      "Requirement already satisfied: pygments in c:\\users\\me\\anaconda3\\lib\\site-packages (from nbconvert->notebook->jupyterlab_hdf) (2.6.1)\n",
      "Requirement already satisfied: mistune<2,>=0.8.1 in c:\\users\\me\\anaconda3\\lib\\site-packages (from nbconvert->notebook->jupyterlab_hdf) (0.8.4)\n",
      "Requirement already satisfied: defusedxml in c:\\users\\me\\anaconda3\\lib\\site-packages (from nbconvert->notebook->jupyterlab_hdf) (0.6.0)\n",
      "Requirement already satisfied: pandocfilters>=1.4.1 in c:\\users\\me\\anaconda3\\lib\\site-packages (from nbconvert->notebook->jupyterlab_hdf) (1.4.2)\n",
      "Requirement already satisfied: testpath in c:\\users\\me\\anaconda3\\lib\\site-packages (from nbconvert->notebook->jupyterlab_hdf) (0.4.4)\n",
      "Requirement already satisfied: ipython>=5.0.0 in c:\\users\\me\\anaconda3\\lib\\site-packages (from ipykernel->notebook->jupyterlab_hdf) (7.16.1)\n",
      "Requirement already satisfied: MarkupSafe>=0.23 in c:\\users\\me\\anaconda3\\lib\\site-packages (from jinja2->notebook->jupyterlab_hdf) (1.1.1)\n",
      "Requirement already satisfied: pywin32>=1.0; sys_platform == \"win32\" in c:\\users\\me\\anaconda3\\lib\\site-packages (from jupyter-core>=4.6.1->notebook->jupyterlab_hdf) (227)\n",
      "Requirement already satisfied: setuptools in c:\\users\\me\\anaconda3\\lib\\site-packages (from jsonschema!=2.5.0,>=2.4->nbformat->notebook->jupyterlab_hdf) (49.2.0.post20200714)\n",
      "Requirement already satisfied: attrs>=17.4.0 in c:\\users\\me\\anaconda3\\lib\\site-packages (from jsonschema!=2.5.0,>=2.4->nbformat->notebook->jupyterlab_hdf) (19.3.0)\n",
      "Requirement already satisfied: pyrsistent>=0.14.0 in c:\\users\\me\\anaconda3\\lib\\site-packages (from jsonschema!=2.5.0,>=2.4->nbformat->notebook->jupyterlab_hdf) (0.16.0)\n",
      "Requirement already satisfied: packaging in c:\\users\\me\\anaconda3\\lib\\site-packages (from bleach->nbconvert->notebook->jupyterlab_hdf) (20.4)\n",
      "Requirement already satisfied: webencodings in c:\\users\\me\\anaconda3\\lib\\site-packages (from bleach->nbconvert->notebook->jupyterlab_hdf) (0.5.1)\n",
      "Requirement already satisfied: prompt-toolkit!=3.0.0,!=3.0.1,<3.1.0,>=2.0.0 in c:\\users\\me\\anaconda3\\lib\\site-packages (from ipython>=5.0.0->ipykernel->notebook->jupyterlab_hdf) (3.0.5)\n",
      "Requirement already satisfied: jedi>=0.10 in c:\\users\\me\\anaconda3\\lib\\site-packages (from ipython>=5.0.0->ipykernel->notebook->jupyterlab_hdf) (0.17.1)\n",
      "Requirement already satisfied: backcall in c:\\users\\me\\anaconda3\\lib\\site-packages (from ipython>=5.0.0->ipykernel->notebook->jupyterlab_hdf) (0.2.0)\n",
      "Requirement already satisfied: pickleshare in c:\\users\\me\\anaconda3\\lib\\site-packages (from ipython>=5.0.0->ipykernel->notebook->jupyterlab_hdf) (0.7.5)\n",
      "Requirement already satisfied: colorama; sys_platform == \"win32\" in c:\\users\\me\\anaconda3\\lib\\site-packages (from ipython>=5.0.0->ipykernel->notebook->jupyterlab_hdf) (0.4.3)\n",
      "Requirement already satisfied: pyparsing>=2.0.2 in c:\\users\\me\\anaconda3\\lib\\site-packages (from packaging->bleach->nbconvert->notebook->jupyterlab_hdf) (2.4.7)\n",
      "Requirement already satisfied: wcwidth in c:\\users\\me\\anaconda3\\lib\\site-packages (from prompt-toolkit!=3.0.0,!=3.0.1,<3.1.0,>=2.0.0->ipython>=5.0.0->ipykernel->notebook->jupyterlab_hdf) (0.2.5)\n",
      "Requirement already satisfied: parso<0.8.0,>=0.7.0 in c:\\users\\me\\anaconda3\\lib\\site-packages (from jedi>=0.10->ipython>=5.0.0->ipykernel->notebook->jupyterlab_hdf) (0.7.0)\n",
      "Installing collected packages: jupyterlab-hdf\n",
      "Successfully installed jupyterlab-hdf-0.4.1\n",
      "Note: you may need to restart the kernel to use updated packages.\n"
     ]
    }
   ],
   "source": [
    "%pip install jupyterlab_hdf"
   ]
  },
  {
   "cell_type": "code",
   "execution_count": 12,
   "metadata": {},
   "outputs": [
    {
     "name": "stdout",
     "output_type": "stream",
     "text": []
    },
    {
     "name": "stderr",
     "output_type": "stream",
     "text": [
      "Building jupyterlab assets (build:prod:minimize)\n"
     ]
    },
    {
     "name": "stdout",
     "output_type": "stream",
     "text": [
      "\n"
     ]
    }
   ],
   "source": [
    "!jupyter labextension install @jupyter-widgets/jupyterlab-manager @jupyterlab/hdf5 dask-labextension jupyterlab-plotly@4.11.0 plotlywidget@4.11.0"
   ]
  },
  {
   "cell_type": "code",
   "execution_count": 14,
   "metadata": {},
   "outputs": [
    {
     "name": "stdout",
     "output_type": "stream",
     "text": []
    },
    {
     "name": "stderr",
     "output_type": "stream",
     "text": [
      "[LabBuildApp] JupyterLab 2.1.5\n",
      "[LabBuildApp] Building in C:\\Users\\me\\anaconda3\\share\\jupyter\\lab\n",
      "[LabBuildApp] Building jupyterlab assets (build:prod:minimize)\n"
     ]
    },
    {
     "name": "stdout",
     "output_type": "stream",
     "text": [
      "\n"
     ]
    }
   ],
   "source": [
    "!jupyter lab build"
   ]
  },
  {
   "cell_type": "code",
   "execution_count": 15,
   "metadata": {},
   "outputs": [
    {
     "name": "stdout",
     "output_type": "stream",
     "text": [
      "JupyterLab v2.1.5\n",
      "Known labextensions:\n"
     ]
    },
    {
     "name": "stderr",
     "output_type": "stream",
     "text": [
      "   app dir: C:\\Users\\me\\anaconda3\\share\\jupyter\\lab\n",
      "        @jupyter-widgets/jupyterlab-manager v2.0.0 enabled  ok\n",
      "        @jupyterlab/hdf5 v0.4.1 enabled  ok\n",
      "        dask-labextension v3.0.0 enabled  ok\n",
      "        jupyterlab-plotly v4.11.0 enabled  ok\n",
      "        plotlywidget v4.11.0 enabled  ok\n"
     ]
    }
   ],
   "source": [
    "!jupyter labextension list"
   ]
  },
  {
   "cell_type": "code",
   "execution_count": null,
   "metadata": {},
   "outputs": [],
   "source": []
  }
 ],
 "metadata": {
  "kernelspec": {
   "display_name": "Python 3",
   "language": "python",
   "name": "python3"
  },
  "language_info": {
   "codemirror_mode": {
    "name": "ipython",
    "version": 3
   },
   "file_extension": ".py",
   "mimetype": "text/x-python",
   "name": "python",
   "nbconvert_exporter": "python",
   "pygments_lexer": "ipython3",
   "version": "3.8.3"
  }
 },
 "nbformat": 4,
 "nbformat_minor": 4
}
