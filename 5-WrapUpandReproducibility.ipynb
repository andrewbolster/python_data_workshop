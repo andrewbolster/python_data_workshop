{
 "cells": [
  {
   "cell_type": "markdown",
   "metadata": {},
   "source": [
    "# Wrapping it all up with a bit of playtime.\n",
    "\n",
    "## Notebook Reproducibility\n",
    "\n",
    "Depending on your configuration, Notebooks can be exported to a range of formats, such as HTML, RTF, LaTeX (and therefore, PDF), as well as exporting to Markdown. \n",
    "\n",
    "This was originally going to be a longer section but honestly, everyone has different requirements and I'd rather answer questions from 10 people than try to write prospective answers for 200 options!\n",
    "\n",
    "## Converting a load of partial files into a nice shiny partitioned dataset \n"
   ]
  },
  {
   "cell_type": "code",
   "execution_count": 36,
   "metadata": {},
   "outputs": [
    {
     "data": {
      "text/plain": [
       "<generator object Path.glob at 0x000001E960458B30>"
      ]
     },
     "execution_count": 36,
     "metadata": {},
     "output_type": "execute_result"
    }
   ],
   "source": [
    "import pyarrow.parquet as pq\n",
    "from pathlib import Path\n",
    "\n",
    "data = Path('data')\n",
    "data.glob('hookup_*.pa.pq')"
   ]
  },
  {
   "cell_type": "markdown",
   "metadata": {},
   "source": [
    "PyArrow "
   ]
  },
  {
   "cell_type": "code",
   "execution_count": 37,
   "metadata": {},
   "outputs": [],
   "source": [
    "\n",
    "df = pa.parquet.read_table('data/hookup_0.pa.pq')"
   ]
  },
  {
   "cell_type": "code",
   "execution_count": 38,
   "metadata": {},
   "outputs": [
    {
     "data": {
      "text/plain": [
       "Categories: list<item: string>\n",
       "  child 0, item: string\n",
       "    -- field metadata --\n",
       "    PARQUET:field_id: '3'\n",
       "  -- field metadata --\n",
       "  PARQUET:field_id: '1'\n",
       "Budget: string\n",
       "  -- field metadata --\n",
       "  PARQUET:field_id: '4'\n",
       "Time: string\n",
       "  -- field metadata --\n",
       "  PARQUET:field_id: '5'\n",
       "Travel: string\n",
       "  -- field metadata --\n",
       "  PARQUET:field_id: '6'\n",
       "Joined: string\n",
       "  -- field metadata --\n",
       "  PARQUET:field_id: '7'\n",
       "Recommended: list<item: string>\n",
       "  child 0, item: string\n",
       "    -- field metadata --\n",
       "    PARQUET:field_id: '10'\n",
       "  -- field metadata --\n",
       "  PARQUET:field_id: '8'\n",
       "Duration: double\n",
       "  -- field metadata --\n",
       "  PARQUET:field_id: '11'\n",
       "-- schema metadata --\n",
       "pandas: '{\"index_columns\": [{\"kind\": \"range\", \"name\": null, \"start\": 0, \"' + 1077"
      ]
     },
     "execution_count": 38,
     "metadata": {},
     "output_type": "execute_result"
    }
   ],
   "source": [
    "df.schema"
   ]
  },
  {
   "cell_type": "code",
   "execution_count": 39,
   "metadata": {},
   "outputs": [],
   "source": [
    "import pyarrow.dataset as ds\n",
    "dataset = ds.dataset(list(data.glob('hookup_*.pa.pq')))"
   ]
  },
  {
   "cell_type": "code",
   "execution_count": 40,
   "metadata": {},
   "outputs": [
    {
     "data": {
      "text/plain": [
       "<pyarrow._dataset.FileSystemDataset at 0x1e96047ef70>"
      ]
     },
     "execution_count": 40,
     "metadata": {},
     "output_type": "execute_result"
    }
   ],
   "source": [
    "dataset"
   ]
  },
  {
   "cell_type": "code",
   "execution_count": 41,
   "metadata": {},
   "outputs": [
    {
     "data": {
      "text/plain": [
       "['data/hookup_0.pa.pq',\n",
       " 'data/hookup_1.pa.pq',\n",
       " 'data/hookup_10k.pa.pq',\n",
       " 'data/hookup_2.pa.pq',\n",
       " 'data/hookup_3.pa.pq',\n",
       " 'data/hookup_4.pa.pq',\n",
       " 'data/hookup_5.pa.pq',\n",
       " 'data/hookup_6.pa.pq',\n",
       " 'data/hookup_7.pa.pq',\n",
       " 'data/hookup_8.pa.pq',\n",
       " 'data/hookup_9.pa.pq']"
      ]
     },
     "execution_count": 41,
     "metadata": {},
     "output_type": "execute_result"
    }
   ],
   "source": [
    "dataset.files"
   ]
  },
  {
   "cell_type": "code",
   "execution_count": 42,
   "metadata": {},
   "outputs": [
    {
     "data": {
      "text/plain": [
       "Categories: list<item: string>\n",
       "  child 0, item: string\n",
       "    -- field metadata --\n",
       "    PARQUET:field_id: '3'\n",
       "  -- field metadata --\n",
       "  PARQUET:field_id: '1'\n",
       "Budget: string\n",
       "  -- field metadata --\n",
       "  PARQUET:field_id: '4'\n",
       "Time: string\n",
       "  -- field metadata --\n",
       "  PARQUET:field_id: '5'\n",
       "Travel: string\n",
       "  -- field metadata --\n",
       "  PARQUET:field_id: '6'\n",
       "Joined: string\n",
       "  -- field metadata --\n",
       "  PARQUET:field_id: '7'\n",
       "Recommended: list<item: string>\n",
       "  child 0, item: string\n",
       "    -- field metadata --\n",
       "    PARQUET:field_id: '10'\n",
       "  -- field metadata --\n",
       "  PARQUET:field_id: '8'\n",
       "Duration: double\n",
       "  -- field metadata --\n",
       "  PARQUET:field_id: '11'\n",
       "-- schema metadata --\n",
       "pandas: '{\"index_columns\": [{\"kind\": \"range\", \"name\": null, \"start\": 0, \"' + 1077"
      ]
     },
     "execution_count": 42,
     "metadata": {},
     "output_type": "execute_result"
    }
   ],
   "source": [
    "dataset.schema"
   ]
  },
  {
   "cell_type": "code",
   "execution_count": 43,
   "metadata": {},
   "outputs": [
    {
     "data": {
      "text/plain": [
       "(110000, 7)"
      ]
     },
     "execution_count": 43,
     "metadata": {},
     "output_type": "execute_result"
    }
   ],
   "source": [
    "dataset.to_table().shape # knows this because it has the metadata!"
   ]
  },
  {
   "cell_type": "code",
   "execution_count": 54,
   "metadata": {},
   "outputs": [
    {
     "data": {
      "text/html": [
       "<div>\n",
       "<style scoped>\n",
       "    .dataframe tbody tr th:only-of-type {\n",
       "        vertical-align: middle;\n",
       "    }\n",
       "\n",
       "    .dataframe tbody tr th {\n",
       "        vertical-align: top;\n",
       "    }\n",
       "\n",
       "    .dataframe thead th {\n",
       "        text-align: right;\n",
       "    }\n",
       "</style>\n",
       "<table border=\"1\" class=\"dataframe\">\n",
       "  <thead>\n",
       "    <tr style=\"text-align: right;\">\n",
       "      <th></th>\n",
       "      <th>Recommended</th>\n",
       "    </tr>\n",
       "  </thead>\n",
       "  <tbody>\n",
       "    <tr>\n",
       "      <th>0</th>\n",
       "      <td>[Cricket Club, Electronic Music Society]</td>\n",
       "    </tr>\n",
       "    <tr>\n",
       "      <th>1</th>\n",
       "      <td>[Officer Training Corps Society, University Ai...</td>\n",
       "    </tr>\n",
       "    <tr>\n",
       "      <th>2</th>\n",
       "      <td>[Olympic Handball Club, Medical Societies, Fai...</td>\n",
       "    </tr>\n",
       "    <tr>\n",
       "      <th>3</th>\n",
       "      <td>[Electronic Music Society, Cricket Club]</td>\n",
       "    </tr>\n",
       "    <tr>\n",
       "      <th>4</th>\n",
       "      <td>[University Air Squadron Society, Officer Trai...</td>\n",
       "    </tr>\n",
       "    <tr>\n",
       "      <th>...</th>\n",
       "      <td>...</td>\n",
       "    </tr>\n",
       "    <tr>\n",
       "      <th>109995</th>\n",
       "      <td>[Golf Club, Hockey Club, GAA Clubs , Soccer Cl...</td>\n",
       "    </tr>\n",
       "    <tr>\n",
       "      <th>109996</th>\n",
       "      <td>[Musical Theatre Society, Nightline Society, I...</td>\n",
       "    </tr>\n",
       "    <tr>\n",
       "      <th>109997</th>\n",
       "      <td>[Archery Club, Visual Arts Society, Activist S...</td>\n",
       "    </tr>\n",
       "    <tr>\n",
       "      <th>109998</th>\n",
       "      <td>[Ultimate Frisbee Club, Join the Climate Actio...</td>\n",
       "    </tr>\n",
       "    <tr>\n",
       "      <th>109999</th>\n",
       "      <td>[Choral and Singing Society, Become a Councill...</td>\n",
       "    </tr>\n",
       "  </tbody>\n",
       "</table>\n",
       "<p>110000 rows × 1 columns</p>\n",
       "</div>"
      ],
      "text/plain": [
       "                                              Recommended\n",
       "0                [Cricket Club, Electronic Music Society]\n",
       "1       [Officer Training Corps Society, University Ai...\n",
       "2       [Olympic Handball Club, Medical Societies, Fai...\n",
       "3                [Electronic Music Society, Cricket Club]\n",
       "4       [University Air Squadron Society, Officer Trai...\n",
       "...                                                   ...\n",
       "109995  [Golf Club, Hockey Club, GAA Clubs , Soccer Cl...\n",
       "109996  [Musical Theatre Society, Nightline Society, I...\n",
       "109997  [Archery Club, Visual Arts Society, Activist S...\n",
       "109998  [Ultimate Frisbee Club, Join the Climate Actio...\n",
       "109999  [Choral and Singing Society, Become a Councill...\n",
       "\n",
       "[110000 rows x 1 columns]"
      ]
     },
     "execution_count": 54,
     "metadata": {},
     "output_type": "execute_result"
    }
   ],
   "source": [
    "dataset.to_table(columns=['Recommended']).to_pandas()"
   ]
  },
  {
   "cell_type": "code",
   "execution_count": null,
   "metadata": {},
   "outputs": [],
   "source": []
  }
 ],
 "metadata": {
  "kernelspec": {
   "display_name": "Python 3",
   "language": "python",
   "name": "python3"
  },
  "language_info": {
   "codemirror_mode": {
    "name": "ipython",
    "version": 3
   },
   "file_extension": ".py",
   "mimetype": "text/x-python",
   "name": "python",
   "nbconvert_exporter": "python",
   "pygments_lexer": "ipython3",
   "version": "3.8.3"
  }
 },
 "nbformat": 4,
 "nbformat_minor": 4
}
